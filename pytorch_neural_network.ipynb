{
 "cells": [
  {
   "cell_type": "code",
   "execution_count": 1,
   "id": "loaded-criticism",
   "metadata": {},
   "outputs": [],
   "source": [
    "import matplotlib.pyplot as plt\n",
    "import numpy as np\n",
    "import torch\n",
    "import scipy.io as sio\n",
    "import torch.nn.functional as F"
   ]
  },
  {
   "cell_type": "code",
   "execution_count": 2,
   "id": "another-hierarchy",
   "metadata": {},
   "outputs": [],
   "source": [
    "def load_data(path, transpose=True):\n",
    "    data = sio.loadmat(path)\n",
    "    y = data.get('y')  # (5000,1)\n",
    "    y = y.reshape(y.shape[0])  # make it back to column vector\n",
    "\n",
    "    X = data.get('X')  # (5000,400)\n",
    "\n",
    "    if transpose:\n",
    "        # for this dataset, you need a transpose to get the orientation right\n",
    "        X = np.array([im.reshape((20, 20)).T for im in X])\n",
    "\n",
    "        # and I flat the image again to preserve the vector presentation\n",
    "        X = np.array([im.reshape(400) for im in X])\n",
    "        \n",
    "    return X, y"
   ]
  },
  {
   "cell_type": "code",
   "execution_count": 3,
   "id": "historical-bargain",
   "metadata": {},
   "outputs": [
    {
     "data": {
      "text/plain": [
       "(torch.Size([5000, 400]), torch.Size([5000]))"
      ]
     },
     "execution_count": 3,
     "metadata": {},
     "output_type": "execute_result"
    }
   ],
   "source": [
    "X, y = load_data('ex3data1.mat')\n",
    "data_size = X.shape[0]\n",
    "arr = np.arange(data_size)\n",
    "np.random.shuffle(arr)\n",
    "X = X[arr]\n",
    "y = y[arr]\n",
    "X = torch.tensor(X, dtype = torch.float32, requires_grad=True)\n",
    "y = torch.tensor(y, dtype = torch.long)\n",
    "y.squeeze()\n",
    "X.size(), y.size()"
   ]
  },
  {
   "cell_type": "code",
   "execution_count": 4,
   "id": "alternative-centre",
   "metadata": {},
   "outputs": [
    {
     "data": {
      "text/plain": [
       "Sequential(\n",
       "  (0): Linear(in_features=400, out_features=10, bias=True)\n",
       "  (1): Linear(in_features=10, out_features=11, bias=True)\n",
       ")"
      ]
     },
     "execution_count": 4,
     "metadata": {},
     "output_type": "execute_result"
    }
   ],
   "source": [
    "net = torch.nn.Sequential(\n",
    "    torch.nn.Linear(400,10),\n",
    "    torch.nn.Linear(10,11)\n",
    ")\n",
    "net"
   ]
  },
  {
   "cell_type": "code",
   "execution_count": 5,
   "id": "settled-translator",
   "metadata": {},
   "outputs": [],
   "source": [
    "optimizer = torch.optim.Adam(net.parameters(), lr = 0.01)\n",
    "loss_func = torch.nn.CrossEntropyLoss()"
   ]
  },
  {
   "cell_type": "code",
   "execution_count": 6,
   "id": "distinguished-cincinnati",
   "metadata": {},
   "outputs": [],
   "source": [
    "for i in range(200):\n",
    "    out = net(X[0:3000,:])\n",
    "    loss = loss_func(out, y[0:3000])\n",
    "    optimizer.zero_grad()\n",
    "    loss.backward()\n",
    "    optimizer.step()"
   ]
  },
  {
   "cell_type": "code",
   "execution_count": 7,
   "id": "medium-closer",
   "metadata": {},
   "outputs": [
    {
     "name": "stdout",
     "output_type": "stream",
     "text": [
      "tensor(0.9025) \n",
      "\n"
     ]
    },
    {
     "name": "stderr",
     "output_type": "stream",
     "text": [
      "<ipython-input-7-d86b8f292f1c>:2: UserWarning: Implicit dimension choice for softmax has been deprecated. Change the call to include dim=X as an argument.\n",
      "  _,prediction = torch.max(F.softmax(out), 1)\n"
     ]
    }
   ],
   "source": [
    "out = net(X[3000:5000,:])\n",
    "_,prediction = torch.max(F.softmax(out), 1)\n",
    "prediction.squeeze()\n",
    "#         for j in range(1,5000,500):\n",
    "#             print(prediction[j],y[j])\n",
    "ans = torch.sum(y[3000:5000]==prediction)/2000\n",
    "print(ans,'\\n')"
   ]
  },
  {
   "cell_type": "code",
   "execution_count": null,
   "id": "intelligent-papua",
   "metadata": {},
   "outputs": [],
   "source": []
  }
 ],
 "metadata": {
  "kernelspec": {
   "display_name": "Python 3",
   "language": "python",
   "name": "python3"
  },
  "language_info": {
   "codemirror_mode": {
    "name": "ipython",
    "version": 3
   },
   "file_extension": ".py",
   "mimetype": "text/x-python",
   "name": "python",
   "nbconvert_exporter": "python",
   "pygments_lexer": "ipython3",
   "version": "3.8.5"
  }
 },
 "nbformat": 4,
 "nbformat_minor": 5
}
